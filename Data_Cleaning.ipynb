{
  "cells": [
    {
      "cell_type": "markdown",
      "metadata": {
        "id": "view-in-github",
        "colab_type": "text"
      },
      "source": [
        "<a href=\"https://colab.research.google.com/github/SonAz/BABOK/blob/main/Data_Cleaning.ipynb\" target=\"_parent\"><img src=\"https://colab.research.google.com/assets/colab-badge.svg\" alt=\"Open In Colab\"/></a>"
      ]
    },
    {
      "cell_type": "markdown",
      "metadata": {
        "id": "xioYMmQk3ll4"
      },
      "source": [
        "# Data Cleaning\n",
        "This notebook will focus on the preprocessing of the datasets before using them in the two recommendation systems (Content-based and collaborative filtering) I will be developing later on."
      ]
    },
    {
      "cell_type": "code",
      "execution_count": null,
      "metadata": {
        "id": "HQRSmqse3ll8"
      },
      "outputs": [],
      "source": [
        "# Import libraries\n",
        "\n",
        "import pandas as pd\n",
        "import numpy as np\n",
        "\n",
        "# Suppress scientific notation of pandas and round floats to 3dp\n",
        "pd.options.display.float_format = '{:,.3f}'.format"
      ]
    },
    {
      "cell_type": "markdown",
      "metadata": {
        "id": "GHSdZkSad-8B"
      },
      "source": [
        "## Mount Google Drive"
      ]
    },
    {
      "cell_type": "code",
      "execution_count": null,
      "metadata": {
        "id": "6X_lv1ZHnXpJ"
      },
      "outputs": [],
      "source": [
        "from google.colab import drive\n",
        "drive.mount('/content/drive/')"
      ]
    },
    {
      "cell_type": "markdown",
      "metadata": {
        "id": "gE3ZXgzJ3ll-"
      },
      "source": [
        "## Anime Dataset\n",
        "\n",
        "Keys:\n",
        "- anime_id - myanimelist.net's unique id identifying an anime.\n",
        "- name - full name of anime.\n",
        "- genre - comma separated list of genres for this anime.\n",
        "- type - movie, TV, OVA, etc.\n",
        "- episodes - how many episodes in this show. (1 if movie).\n",
        "- rating - average rating out of 10 for this anime.\n",
        "- members - number of community members that are in this anime's\n",
        "\"group\"."
      ]
    },
    {
      "cell_type": "code",
      "execution_count": null,
      "metadata": {
        "colab": {
          "base_uri": "https://localhost:8080/",
          "height": 363
        },
        "id": "DCOj8zsW3ll_",
        "outputId": "1a19747f-7d71-4f3f-b03d-9eb30eb06de4"
      },
      "outputs": [
        {
          "output_type": "execute_result",
          "data": {
            "text/plain": [
              "   anime_id                                               name  \\\n",
              "0     32281                                     Kimi no Na wa.   \n",
              "1      5114                   Fullmetal Alchemist: Brotherhood   \n",
              "2     28977                                           Gintama°   \n",
              "3      9253                                        Steins;Gate   \n",
              "4      9969                                      Gintama&#039;   \n",
              "5     32935  Haikyuu!!: Karasuno Koukou VS Shiratorizawa Ga...   \n",
              "6     11061                             Hunter x Hunter (2011)   \n",
              "7       820                               Ginga Eiyuu Densetsu   \n",
              "8     15335  Gintama Movie: Kanketsu-hen - Yorozuya yo Eien...   \n",
              "9     15417                           Gintama&#039;: Enchousen   \n",
              "\n",
              "                                               genre   type episodes  rating  \\\n",
              "0               Drama, Romance, School, Supernatural  Movie        1   9.370   \n",
              "1  Action, Adventure, Drama, Fantasy, Magic, Mili...     TV       64   9.260   \n",
              "2  Action, Comedy, Historical, Parody, Samurai, S...     TV       51   9.250   \n",
              "3                                   Sci-Fi, Thriller     TV       24   9.170   \n",
              "4  Action, Comedy, Historical, Parody, Samurai, S...     TV       51   9.160   \n",
              "5             Comedy, Drama, School, Shounen, Sports     TV       10   9.150   \n",
              "6            Action, Adventure, Shounen, Super Power     TV      148   9.130   \n",
              "7                     Drama, Military, Sci-Fi, Space    OVA      110   9.110   \n",
              "8  Action, Comedy, Historical, Parody, Samurai, S...  Movie        1   9.100   \n",
              "9  Action, Comedy, Historical, Parody, Samurai, S...     TV       13   9.110   \n",
              "\n",
              "   members  \n",
              "0   200630  \n",
              "1   793665  \n",
              "2   114262  \n",
              "3   673572  \n",
              "4   151266  \n",
              "5    93351  \n",
              "6   425855  \n",
              "7    80679  \n",
              "8    72534  \n",
              "9    81109  "
            ],
            "text/html": [
              "\n",
              "  <div id=\"df-600f8262-6865-4b1c-8cf1-3e734d3095e8\">\n",
              "    <div class=\"colab-df-container\">\n",
              "      <div>\n",
              "<style scoped>\n",
              "    .dataframe tbody tr th:only-of-type {\n",
              "        vertical-align: middle;\n",
              "    }\n",
              "\n",
              "    .dataframe tbody tr th {\n",
              "        vertical-align: top;\n",
              "    }\n",
              "\n",
              "    .dataframe thead th {\n",
              "        text-align: right;\n",
              "    }\n",
              "</style>\n",
              "<table border=\"1\" class=\"dataframe\">\n",
              "  <thead>\n",
              "    <tr style=\"text-align: right;\">\n",
              "      <th></th>\n",
              "      <th>anime_id</th>\n",
              "      <th>name</th>\n",
              "      <th>genre</th>\n",
              "      <th>type</th>\n",
              "      <th>episodes</th>\n",
              "      <th>rating</th>\n",
              "      <th>members</th>\n",
              "    </tr>\n",
              "  </thead>\n",
              "  <tbody>\n",
              "    <tr>\n",
              "      <th>0</th>\n",
              "      <td>32281</td>\n",
              "      <td>Kimi no Na wa.</td>\n",
              "      <td>Drama, Romance, School, Supernatural</td>\n",
              "      <td>Movie</td>\n",
              "      <td>1</td>\n",
              "      <td>9.370</td>\n",
              "      <td>200630</td>\n",
              "    </tr>\n",
              "    <tr>\n",
              "      <th>1</th>\n",
              "      <td>5114</td>\n",
              "      <td>Fullmetal Alchemist: Brotherhood</td>\n",
              "      <td>Action, Adventure, Drama, Fantasy, Magic, Mili...</td>\n",
              "      <td>TV</td>\n",
              "      <td>64</td>\n",
              "      <td>9.260</td>\n",
              "      <td>793665</td>\n",
              "    </tr>\n",
              "    <tr>\n",
              "      <th>2</th>\n",
              "      <td>28977</td>\n",
              "      <td>Gintama°</td>\n",
              "      <td>Action, Comedy, Historical, Parody, Samurai, S...</td>\n",
              "      <td>TV</td>\n",
              "      <td>51</td>\n",
              "      <td>9.250</td>\n",
              "      <td>114262</td>\n",
              "    </tr>\n",
              "    <tr>\n",
              "      <th>3</th>\n",
              "      <td>9253</td>\n",
              "      <td>Steins;Gate</td>\n",
              "      <td>Sci-Fi, Thriller</td>\n",
              "      <td>TV</td>\n",
              "      <td>24</td>\n",
              "      <td>9.170</td>\n",
              "      <td>673572</td>\n",
              "    </tr>\n",
              "    <tr>\n",
              "      <th>4</th>\n",
              "      <td>9969</td>\n",
              "      <td>Gintama&amp;#039;</td>\n",
              "      <td>Action, Comedy, Historical, Parody, Samurai, S...</td>\n",
              "      <td>TV</td>\n",
              "      <td>51</td>\n",
              "      <td>9.160</td>\n",
              "      <td>151266</td>\n",
              "    </tr>\n",
              "    <tr>\n",
              "      <th>5</th>\n",
              "      <td>32935</td>\n",
              "      <td>Haikyuu!!: Karasuno Koukou VS Shiratorizawa Ga...</td>\n",
              "      <td>Comedy, Drama, School, Shounen, Sports</td>\n",
              "      <td>TV</td>\n",
              "      <td>10</td>\n",
              "      <td>9.150</td>\n",
              "      <td>93351</td>\n",
              "    </tr>\n",
              "    <tr>\n",
              "      <th>6</th>\n",
              "      <td>11061</td>\n",
              "      <td>Hunter x Hunter (2011)</td>\n",
              "      <td>Action, Adventure, Shounen, Super Power</td>\n",
              "      <td>TV</td>\n",
              "      <td>148</td>\n",
              "      <td>9.130</td>\n",
              "      <td>425855</td>\n",
              "    </tr>\n",
              "    <tr>\n",
              "      <th>7</th>\n",
              "      <td>820</td>\n",
              "      <td>Ginga Eiyuu Densetsu</td>\n",
              "      <td>Drama, Military, Sci-Fi, Space</td>\n",
              "      <td>OVA</td>\n",
              "      <td>110</td>\n",
              "      <td>9.110</td>\n",
              "      <td>80679</td>\n",
              "    </tr>\n",
              "    <tr>\n",
              "      <th>8</th>\n",
              "      <td>15335</td>\n",
              "      <td>Gintama Movie: Kanketsu-hen - Yorozuya yo Eien...</td>\n",
              "      <td>Action, Comedy, Historical, Parody, Samurai, S...</td>\n",
              "      <td>Movie</td>\n",
              "      <td>1</td>\n",
              "      <td>9.100</td>\n",
              "      <td>72534</td>\n",
              "    </tr>\n",
              "    <tr>\n",
              "      <th>9</th>\n",
              "      <td>15417</td>\n",
              "      <td>Gintama&amp;#039;: Enchousen</td>\n",
              "      <td>Action, Comedy, Historical, Parody, Samurai, S...</td>\n",
              "      <td>TV</td>\n",
              "      <td>13</td>\n",
              "      <td>9.110</td>\n",
              "      <td>81109</td>\n",
              "    </tr>\n",
              "  </tbody>\n",
              "</table>\n",
              "</div>\n",
              "      <button class=\"colab-df-convert\" onclick=\"convertToInteractive('df-600f8262-6865-4b1c-8cf1-3e734d3095e8')\"\n",
              "              title=\"Convert this dataframe to an interactive table.\"\n",
              "              style=\"display:none;\">\n",
              "        \n",
              "  <svg xmlns=\"http://www.w3.org/2000/svg\" height=\"24px\"viewBox=\"0 0 24 24\"\n",
              "       width=\"24px\">\n",
              "    <path d=\"M0 0h24v24H0V0z\" fill=\"none\"/>\n",
              "    <path d=\"M18.56 5.44l.94 2.06.94-2.06 2.06-.94-2.06-.94-.94-2.06-.94 2.06-2.06.94zm-11 1L8.5 8.5l.94-2.06 2.06-.94-2.06-.94L8.5 2.5l-.94 2.06-2.06.94zm10 10l.94 2.06.94-2.06 2.06-.94-2.06-.94-.94-2.06-.94 2.06-2.06.94z\"/><path d=\"M17.41 7.96l-1.37-1.37c-.4-.4-.92-.59-1.43-.59-.52 0-1.04.2-1.43.59L10.3 9.45l-7.72 7.72c-.78.78-.78 2.05 0 2.83L4 21.41c.39.39.9.59 1.41.59.51 0 1.02-.2 1.41-.59l7.78-7.78 2.81-2.81c.8-.78.8-2.07 0-2.86zM5.41 20L4 18.59l7.72-7.72 1.47 1.35L5.41 20z\"/>\n",
              "  </svg>\n",
              "      </button>\n",
              "      \n",
              "  <style>\n",
              "    .colab-df-container {\n",
              "      display:flex;\n",
              "      flex-wrap:wrap;\n",
              "      gap: 12px;\n",
              "    }\n",
              "\n",
              "    .colab-df-convert {\n",
              "      background-color: #E8F0FE;\n",
              "      border: none;\n",
              "      border-radius: 50%;\n",
              "      cursor: pointer;\n",
              "      display: none;\n",
              "      fill: #1967D2;\n",
              "      height: 32px;\n",
              "      padding: 0 0 0 0;\n",
              "      width: 32px;\n",
              "    }\n",
              "\n",
              "    .colab-df-convert:hover {\n",
              "      background-color: #E2EBFA;\n",
              "      box-shadow: 0px 1px 2px rgba(60, 64, 67, 0.3), 0px 1px 3px 1px rgba(60, 64, 67, 0.15);\n",
              "      fill: #174EA6;\n",
              "    }\n",
              "\n",
              "    [theme=dark] .colab-df-convert {\n",
              "      background-color: #3B4455;\n",
              "      fill: #D2E3FC;\n",
              "    }\n",
              "\n",
              "    [theme=dark] .colab-df-convert:hover {\n",
              "      background-color: #434B5C;\n",
              "      box-shadow: 0px 1px 3px 1px rgba(0, 0, 0, 0.15);\n",
              "      filter: drop-shadow(0px 1px 2px rgba(0, 0, 0, 0.3));\n",
              "      fill: #FFFFFF;\n",
              "    }\n",
              "  </style>\n",
              "\n",
              "      <script>\n",
              "        const buttonEl =\n",
              "          document.querySelector('#df-600f8262-6865-4b1c-8cf1-3e734d3095e8 button.colab-df-convert');\n",
              "        buttonEl.style.display =\n",
              "          google.colab.kernel.accessAllowed ? 'block' : 'none';\n",
              "\n",
              "        async function convertToInteractive(key) {\n",
              "          const element = document.querySelector('#df-600f8262-6865-4b1c-8cf1-3e734d3095e8');\n",
              "          const dataTable =\n",
              "            await google.colab.kernel.invokeFunction('convertToInteractive',\n",
              "                                                     [key], {});\n",
              "          if (!dataTable) return;\n",
              "\n",
              "          const docLinkHtml = 'Like what you see? Visit the ' +\n",
              "            '<a target=\"_blank\" href=https://colab.research.google.com/notebooks/data_table.ipynb>data table notebook</a>'\n",
              "            + ' to learn more about interactive tables.';\n",
              "          element.innerHTML = '';\n",
              "          dataTable['output_type'] = 'display_data';\n",
              "          await google.colab.output.renderOutput(dataTable, element);\n",
              "          const docLink = document.createElement('div');\n",
              "          docLink.innerHTML = docLinkHtml;\n",
              "          element.appendChild(docLink);\n",
              "        }\n",
              "      </script>\n",
              "    </div>\n",
              "  </div>\n",
              "  "
            ]
          },
          "metadata": {},
          "execution_count": 19
        }
      ],
      "source": [
        "# load anime dataset\n",
        "anime_df = pd.read_csv(\"/content/drive/My Drive/Colab Notebooks/datasets/anime.csv\")\n",
        "\n",
        "anime_df.head(10)."
      ]
    },
    {
      "cell_type": "markdown",
      "metadata": {
        "id": "FqSXlQyM3lmA"
      },
      "source": [
        "Just by looking at the top 5 entries in the dataframe. We already see there seems to be duplicates due to formatting or differences in the way values where entered. I will need to clean this."
      ]
    },
    {
      "cell_type": "code",
      "execution_count": null,
      "metadata": {
        "colab": {
          "base_uri": "https://localhost:8080/"
        },
        "id": "ws2FPfIh3lmA",
        "outputId": "972809a8-0bb9-4306-c007-64a4568be2ee"
      },
      "outputs": [
        {
          "output_type": "execute_result",
          "data": {
            "text/plain": [
              "(12294, 7)"
            ]
          },
          "metadata": {},
          "execution_count": 20
        }
      ],
      "source": [
        "# number of rows and columns in the dataframe\n",
        "anime_df.shape"
      ]
    },
    {
      "cell_type": "code",
      "execution_count": null,
      "metadata": {
        "colab": {
          "base_uri": "https://localhost:8080/"
        },
        "id": "KM9f5mrJ3lmB",
        "outputId": "3a3c7c8d-6d6f-4417-d868-e48a3b8f1192"
      },
      "outputs": [
        {
          "output_type": "execute_result",
          "data": {
            "text/plain": [
              "anime_id      int64\n",
              "name         object\n",
              "genre        object\n",
              "type         object\n",
              "episodes     object\n",
              "rating      float64\n",
              "members       int64\n",
              "dtype: object"
            ]
          },
          "metadata": {},
          "execution_count": 21
        }
      ],
      "source": [
        "# are the columns using suitable datatypes\n",
        "anime_df.dtypes"
      ]
    },
    {
      "cell_type": "markdown",
      "metadata": {
        "id": "2Q5_XdKM3lmC"
      },
      "source": [
        "It seems that all of the columns except episodes are the correct datatype."
      ]
    },
    {
      "cell_type": "code",
      "execution_count": null,
      "metadata": {
        "colab": {
          "base_uri": "https://localhost:8080/"
        },
        "id": "iLii4HDv3lmC",
        "outputId": "5464689f-2d17-4c47-dd1b-c17db154a5f3"
      },
      "outputs": [
        {
          "output_type": "execute_result",
          "data": {
            "text/plain": [
              "anime_id      int64\n",
              "name         object\n",
              "genre        object\n",
              "type         object\n",
              "episodes    float64\n",
              "rating      float64\n",
              "members       int64\n",
              "dtype: object"
            ]
          },
          "metadata": {},
          "execution_count": 22
        }
      ],
      "source": [
        "# replace animes where the number of episodes are unknown into nan and then convert everything to float\n",
        "anime_df[\"episodes\"].replace({\"Unknown\": \"nan\", \"unknown\": \"nan\"}, inplace=True)\n",
        "anime_df[\"episodes\"] = anime_df[\"episodes\"].astype(\"float\")\n",
        "anime_df.dtypes"
      ]
    },
    {
      "cell_type": "markdown",
      "metadata": {
        "id": "2-jYj-8W3lmD"
      },
      "source": [
        "Now"
      ]
    },
    {
      "cell_type": "code",
      "execution_count": null,
      "metadata": {
        "colab": {
          "base_uri": "https://localhost:8080/"
        },
        "id": "kLO03TC03lmD",
        "outputId": "07a289fb-09f7-4a0e-a8f1-d6592ccd334b"
      },
      "outputs": [
        {
          "output_type": "execute_result",
          "data": {
            "text/plain": [
              "anime_id    False\n",
              "name        False\n",
              "genre        True\n",
              "type         True\n",
              "episodes     True\n",
              "rating       True\n",
              "members     False\n",
              "dtype: bool"
            ]
          },
          "metadata": {},
          "execution_count": 23
        }
      ],
      "source": [
        "# Check which rows have missing values\n",
        "anime_df.isnull().any()"
      ]
    },
    {
      "cell_type": "code",
      "execution_count": null,
      "metadata": {
        "colab": {
          "base_uri": "https://localhost:8080/"
        },
        "id": "Eg0up0Q-3lmE",
        "outputId": "fd7e9ce6-3e6a-44c0-ebdc-14cdc56d74b9"
      },
      "outputs": [
        {
          "output_type": "execute_result",
          "data": {
            "text/plain": [
              "anime_id      0\n",
              "name          0\n",
              "genre        62\n",
              "type         25\n",
              "episodes    340\n",
              "rating      230\n",
              "members       0\n",
              "dtype: int64"
            ]
          },
          "metadata": {},
          "execution_count": 24
        }
      ],
      "source": [
        "# How many missing values do we have for each column?\n",
        "anime_df.isnull().sum()"
      ]
    },
    {
      "cell_type": "markdown",
      "metadata": {
        "id": "3-ojgv303lmE"
      },
      "source": [
        "It seems like there are missing values for the genre(62), type(25), and rating(230) columns. For a recommendation system, missing values may make a content based filtering system less inaccurate as features like the genre a film may influence the enjoyment one may have viewing a certain anime."
      ]
    },
    {
      "cell_type": "markdown",
      "metadata": {
        "id": "EUNH8EGU3lmE"
      },
      "source": [
        "In this project, I am only going to be using animes that have a \"type\" value of \"TV\". As a result of this, I will be removing all rows where \"type\" is not equal to \"TV\"."
      ]
    },
    {
      "cell_type": "code",
      "execution_count": null,
      "metadata": {
        "colab": {
          "base_uri": "https://localhost:8080/",
          "height": 363
        },
        "id": "7RL2-3Y73lmF",
        "outputId": "2c742489-41f6-4a3a-a068-855452bb8333"
      },
      "outputs": [
        {
          "output_type": "execute_result",
          "data": {
            "text/plain": [
              "    anime_id                                               name  \\\n",
              "1       5114                   Fullmetal Alchemist: Brotherhood   \n",
              "2      28977                                           Gintama°   \n",
              "3       9253                                        Steins;Gate   \n",
              "4       9969                                      Gintama&#039;   \n",
              "5      32935  Haikyuu!!: Karasuno Koukou VS Shiratorizawa Ga...   \n",
              "6      11061                             Hunter x Hunter (2011)   \n",
              "9      15417                           Gintama&#039;: Enchousen   \n",
              "10      4181                               Clannad: After Story   \n",
              "12       918                                            Gintama   \n",
              "13      2904                 Code Geass: Hangyaku no Lelouch R2   \n",
              "\n",
              "                                                genre type  episodes  rating  \\\n",
              "1   Action, Adventure, Drama, Fantasy, Magic, Mili...   TV    64.000   9.260   \n",
              "2   Action, Comedy, Historical, Parody, Samurai, S...   TV    51.000   9.250   \n",
              "3                                    Sci-Fi, Thriller   TV    24.000   9.170   \n",
              "4   Action, Comedy, Historical, Parody, Samurai, S...   TV    51.000   9.160   \n",
              "5              Comedy, Drama, School, Shounen, Sports   TV    10.000   9.150   \n",
              "6             Action, Adventure, Shounen, Super Power   TV   148.000   9.130   \n",
              "9   Action, Comedy, Historical, Parody, Samurai, S...   TV    13.000   9.110   \n",
              "10  Drama, Fantasy, Romance, Slice of Life, Supern...   TV    24.000   9.060   \n",
              "12  Action, Comedy, Historical, Parody, Samurai, S...   TV   201.000   9.040   \n",
              "13  Action, Drama, Mecha, Military, Sci-Fi, Super ...   TV    25.000   8.980   \n",
              "\n",
              "    members  \n",
              "1    793665  \n",
              "2    114262  \n",
              "3    673572  \n",
              "4    151266  \n",
              "5     93351  \n",
              "6    425855  \n",
              "9     81109  \n",
              "10   456749  \n",
              "12   336376  \n",
              "13   572888  "
            ],
            "text/html": [
              "\n",
              "  <div id=\"df-c52e24af-9776-4183-8ab4-cf21962101f5\">\n",
              "    <div class=\"colab-df-container\">\n",
              "      <div>\n",
              "<style scoped>\n",
              "    .dataframe tbody tr th:only-of-type {\n",
              "        vertical-align: middle;\n",
              "    }\n",
              "\n",
              "    .dataframe tbody tr th {\n",
              "        vertical-align: top;\n",
              "    }\n",
              "\n",
              "    .dataframe thead th {\n",
              "        text-align: right;\n",
              "    }\n",
              "</style>\n",
              "<table border=\"1\" class=\"dataframe\">\n",
              "  <thead>\n",
              "    <tr style=\"text-align: right;\">\n",
              "      <th></th>\n",
              "      <th>anime_id</th>\n",
              "      <th>name</th>\n",
              "      <th>genre</th>\n",
              "      <th>type</th>\n",
              "      <th>episodes</th>\n",
              "      <th>rating</th>\n",
              "      <th>members</th>\n",
              "    </tr>\n",
              "  </thead>\n",
              "  <tbody>\n",
              "    <tr>\n",
              "      <th>1</th>\n",
              "      <td>5114</td>\n",
              "      <td>Fullmetal Alchemist: Brotherhood</td>\n",
              "      <td>Action, Adventure, Drama, Fantasy, Magic, Mili...</td>\n",
              "      <td>TV</td>\n",
              "      <td>64.000</td>\n",
              "      <td>9.260</td>\n",
              "      <td>793665</td>\n",
              "    </tr>\n",
              "    <tr>\n",
              "      <th>2</th>\n",
              "      <td>28977</td>\n",
              "      <td>Gintama°</td>\n",
              "      <td>Action, Comedy, Historical, Parody, Samurai, S...</td>\n",
              "      <td>TV</td>\n",
              "      <td>51.000</td>\n",
              "      <td>9.250</td>\n",
              "      <td>114262</td>\n",
              "    </tr>\n",
              "    <tr>\n",
              "      <th>3</th>\n",
              "      <td>9253</td>\n",
              "      <td>Steins;Gate</td>\n",
              "      <td>Sci-Fi, Thriller</td>\n",
              "      <td>TV</td>\n",
              "      <td>24.000</td>\n",
              "      <td>9.170</td>\n",
              "      <td>673572</td>\n",
              "    </tr>\n",
              "    <tr>\n",
              "      <th>4</th>\n",
              "      <td>9969</td>\n",
              "      <td>Gintama&amp;#039;</td>\n",
              "      <td>Action, Comedy, Historical, Parody, Samurai, S...</td>\n",
              "      <td>TV</td>\n",
              "      <td>51.000</td>\n",
              "      <td>9.160</td>\n",
              "      <td>151266</td>\n",
              "    </tr>\n",
              "    <tr>\n",
              "      <th>5</th>\n",
              "      <td>32935</td>\n",
              "      <td>Haikyuu!!: Karasuno Koukou VS Shiratorizawa Ga...</td>\n",
              "      <td>Comedy, Drama, School, Shounen, Sports</td>\n",
              "      <td>TV</td>\n",
              "      <td>10.000</td>\n",
              "      <td>9.150</td>\n",
              "      <td>93351</td>\n",
              "    </tr>\n",
              "    <tr>\n",
              "      <th>6</th>\n",
              "      <td>11061</td>\n",
              "      <td>Hunter x Hunter (2011)</td>\n",
              "      <td>Action, Adventure, Shounen, Super Power</td>\n",
              "      <td>TV</td>\n",
              "      <td>148.000</td>\n",
              "      <td>9.130</td>\n",
              "      <td>425855</td>\n",
              "    </tr>\n",
              "    <tr>\n",
              "      <th>9</th>\n",
              "      <td>15417</td>\n",
              "      <td>Gintama&amp;#039;: Enchousen</td>\n",
              "      <td>Action, Comedy, Historical, Parody, Samurai, S...</td>\n",
              "      <td>TV</td>\n",
              "      <td>13.000</td>\n",
              "      <td>9.110</td>\n",
              "      <td>81109</td>\n",
              "    </tr>\n",
              "    <tr>\n",
              "      <th>10</th>\n",
              "      <td>4181</td>\n",
              "      <td>Clannad: After Story</td>\n",
              "      <td>Drama, Fantasy, Romance, Slice of Life, Supern...</td>\n",
              "      <td>TV</td>\n",
              "      <td>24.000</td>\n",
              "      <td>9.060</td>\n",
              "      <td>456749</td>\n",
              "    </tr>\n",
              "    <tr>\n",
              "      <th>12</th>\n",
              "      <td>918</td>\n",
              "      <td>Gintama</td>\n",
              "      <td>Action, Comedy, Historical, Parody, Samurai, S...</td>\n",
              "      <td>TV</td>\n",
              "      <td>201.000</td>\n",
              "      <td>9.040</td>\n",
              "      <td>336376</td>\n",
              "    </tr>\n",
              "    <tr>\n",
              "      <th>13</th>\n",
              "      <td>2904</td>\n",
              "      <td>Code Geass: Hangyaku no Lelouch R2</td>\n",
              "      <td>Action, Drama, Mecha, Military, Sci-Fi, Super ...</td>\n",
              "      <td>TV</td>\n",
              "      <td>25.000</td>\n",
              "      <td>8.980</td>\n",
              "      <td>572888</td>\n",
              "    </tr>\n",
              "  </tbody>\n",
              "</table>\n",
              "</div>\n",
              "      <button class=\"colab-df-convert\" onclick=\"convertToInteractive('df-c52e24af-9776-4183-8ab4-cf21962101f5')\"\n",
              "              title=\"Convert this dataframe to an interactive table.\"\n",
              "              style=\"display:none;\">\n",
              "        \n",
              "  <svg xmlns=\"http://www.w3.org/2000/svg\" height=\"24px\"viewBox=\"0 0 24 24\"\n",
              "       width=\"24px\">\n",
              "    <path d=\"M0 0h24v24H0V0z\" fill=\"none\"/>\n",
              "    <path d=\"M18.56 5.44l.94 2.06.94-2.06 2.06-.94-2.06-.94-.94-2.06-.94 2.06-2.06.94zm-11 1L8.5 8.5l.94-2.06 2.06-.94-2.06-.94L8.5 2.5l-.94 2.06-2.06.94zm10 10l.94 2.06.94-2.06 2.06-.94-2.06-.94-.94-2.06-.94 2.06-2.06.94z\"/><path d=\"M17.41 7.96l-1.37-1.37c-.4-.4-.92-.59-1.43-.59-.52 0-1.04.2-1.43.59L10.3 9.45l-7.72 7.72c-.78.78-.78 2.05 0 2.83L4 21.41c.39.39.9.59 1.41.59.51 0 1.02-.2 1.41-.59l7.78-7.78 2.81-2.81c.8-.78.8-2.07 0-2.86zM5.41 20L4 18.59l7.72-7.72 1.47 1.35L5.41 20z\"/>\n",
              "  </svg>\n",
              "      </button>\n",
              "      \n",
              "  <style>\n",
              "    .colab-df-container {\n",
              "      display:flex;\n",
              "      flex-wrap:wrap;\n",
              "      gap: 12px;\n",
              "    }\n",
              "\n",
              "    .colab-df-convert {\n",
              "      background-color: #E8F0FE;\n",
              "      border: none;\n",
              "      border-radius: 50%;\n",
              "      cursor: pointer;\n",
              "      display: none;\n",
              "      fill: #1967D2;\n",
              "      height: 32px;\n",
              "      padding: 0 0 0 0;\n",
              "      width: 32px;\n",
              "    }\n",
              "\n",
              "    .colab-df-convert:hover {\n",
              "      background-color: #E2EBFA;\n",
              "      box-shadow: 0px 1px 2px rgba(60, 64, 67, 0.3), 0px 1px 3px 1px rgba(60, 64, 67, 0.15);\n",
              "      fill: #174EA6;\n",
              "    }\n",
              "\n",
              "    [theme=dark] .colab-df-convert {\n",
              "      background-color: #3B4455;\n",
              "      fill: #D2E3FC;\n",
              "    }\n",
              "\n",
              "    [theme=dark] .colab-df-convert:hover {\n",
              "      background-color: #434B5C;\n",
              "      box-shadow: 0px 1px 3px 1px rgba(0, 0, 0, 0.15);\n",
              "      filter: drop-shadow(0px 1px 2px rgba(0, 0, 0, 0.3));\n",
              "      fill: #FFFFFF;\n",
              "    }\n",
              "  </style>\n",
              "\n",
              "      <script>\n",
              "        const buttonEl =\n",
              "          document.querySelector('#df-c52e24af-9776-4183-8ab4-cf21962101f5 button.colab-df-convert');\n",
              "        buttonEl.style.display =\n",
              "          google.colab.kernel.accessAllowed ? 'block' : 'none';\n",
              "\n",
              "        async function convertToInteractive(key) {\n",
              "          const element = document.querySelector('#df-c52e24af-9776-4183-8ab4-cf21962101f5');\n",
              "          const dataTable =\n",
              "            await google.colab.kernel.invokeFunction('convertToInteractive',\n",
              "                                                     [key], {});\n",
              "          if (!dataTable) return;\n",
              "\n",
              "          const docLinkHtml = 'Like what you see? Visit the ' +\n",
              "            '<a target=\"_blank\" href=https://colab.research.google.com/notebooks/data_table.ipynb>data table notebook</a>'\n",
              "            + ' to learn more about interactive tables.';\n",
              "          element.innerHTML = '';\n",
              "          dataTable['output_type'] = 'display_data';\n",
              "          await google.colab.output.renderOutput(dataTable, element);\n",
              "          const docLink = document.createElement('div');\n",
              "          docLink.innerHTML = docLinkHtml;\n",
              "          element.appendChild(docLink);\n",
              "        }\n",
              "      </script>\n",
              "    </div>\n",
              "  </div>\n",
              "  "
            ]
          },
          "metadata": {},
          "execution_count": 25
        }
      ],
      "source": [
        "# remove rows where the film is not classified as \"TV\"\n",
        "anime_df = anime_df[anime_df[\"type\"] == \"TV\"]\n",
        "anime_df.head(10)"
      ]
    },
    {
      "cell_type": "code",
      "execution_count": null,
      "metadata": {
        "colab": {
          "base_uri": "https://localhost:8080/"
        },
        "id": "nchaDEeN3lmF",
        "outputId": "4591886e-92f6-48cd-a0e6-1929914e7660"
      },
      "outputs": [
        {
          "output_type": "execute_result",
          "data": {
            "text/plain": [
              "anime_id      0\n",
              "name          0\n",
              "genre        10\n",
              "type          0\n",
              "episodes    209\n",
              "rating      116\n",
              "members       0\n",
              "dtype: int64"
            ]
          },
          "metadata": {},
          "execution_count": 26
        }
      ],
      "source": [
        "# check how many missing values we have now\n",
        "anime_df.isnull().sum()"
      ]
    },
    {
      "cell_type": "markdown",
      "metadata": {
        "id": "cWgyHmhT3lmF"
      },
      "source": [
        "It seems we still have 10 rows with missing genre values and also 116 rows with missing rating values. For the content based filtering, the genre of the show will be required so when it is time to develop the content based filtering model I will be dropping those 10 rows with missing genre values. On the other hand, with the collaborative filtering system, I am not required to used the genre values at all so I will simply use the whole dataset without the genre column."
      ]
    },
    {
      "cell_type": "markdown",
      "metadata": {
        "id": "ULOeHBCb3lmG"
      },
      "source": [
        "## Ratings Dataset\n",
        "\n",
        "Keys:\n",
        "- user_id - non identifiable randomly generated user id.\n",
        "- anime_id - the anime that this user has rated.\n",
        "- rating - rating out of 10 this user has assigned (-1 if the user watched it but didn't assign a rating)."
      ]
    },
    {
      "cell_type": "code",
      "execution_count": null,
      "metadata": {
        "colab": {
          "base_uri": "https://localhost:8080/",
          "height": 206
        },
        "id": "52HmiX843lmG",
        "outputId": "3029fa5d-92a0-41db-9ffa-4b0dd1145abd"
      },
      "outputs": [
        {
          "output_type": "execute_result",
          "data": {
            "text/plain": [
              "   user_id  anime_id  rating\n",
              "0        1        20      -1\n",
              "1        1        24      -1\n",
              "2        1        79      -1\n",
              "3        1       226      -1\n",
              "4        1       241      -1"
            ],
            "text/html": [
              "\n",
              "  <div id=\"df-cb6bb09b-a0ab-4278-8507-ae1e359a928c\">\n",
              "    <div class=\"colab-df-container\">\n",
              "      <div>\n",
              "<style scoped>\n",
              "    .dataframe tbody tr th:only-of-type {\n",
              "        vertical-align: middle;\n",
              "    }\n",
              "\n",
              "    .dataframe tbody tr th {\n",
              "        vertical-align: top;\n",
              "    }\n",
              "\n",
              "    .dataframe thead th {\n",
              "        text-align: right;\n",
              "    }\n",
              "</style>\n",
              "<table border=\"1\" class=\"dataframe\">\n",
              "  <thead>\n",
              "    <tr style=\"text-align: right;\">\n",
              "      <th></th>\n",
              "      <th>user_id</th>\n",
              "      <th>anime_id</th>\n",
              "      <th>rating</th>\n",
              "    </tr>\n",
              "  </thead>\n",
              "  <tbody>\n",
              "    <tr>\n",
              "      <th>0</th>\n",
              "      <td>1</td>\n",
              "      <td>20</td>\n",
              "      <td>-1</td>\n",
              "    </tr>\n",
              "    <tr>\n",
              "      <th>1</th>\n",
              "      <td>1</td>\n",
              "      <td>24</td>\n",
              "      <td>-1</td>\n",
              "    </tr>\n",
              "    <tr>\n",
              "      <th>2</th>\n",
              "      <td>1</td>\n",
              "      <td>79</td>\n",
              "      <td>-1</td>\n",
              "    </tr>\n",
              "    <tr>\n",
              "      <th>3</th>\n",
              "      <td>1</td>\n",
              "      <td>226</td>\n",
              "      <td>-1</td>\n",
              "    </tr>\n",
              "    <tr>\n",
              "      <th>4</th>\n",
              "      <td>1</td>\n",
              "      <td>241</td>\n",
              "      <td>-1</td>\n",
              "    </tr>\n",
              "  </tbody>\n",
              "</table>\n",
              "</div>\n",
              "      <button class=\"colab-df-convert\" onclick=\"convertToInteractive('df-cb6bb09b-a0ab-4278-8507-ae1e359a928c')\"\n",
              "              title=\"Convert this dataframe to an interactive table.\"\n",
              "              style=\"display:none;\">\n",
              "        \n",
              "  <svg xmlns=\"http://www.w3.org/2000/svg\" height=\"24px\"viewBox=\"0 0 24 24\"\n",
              "       width=\"24px\">\n",
              "    <path d=\"M0 0h24v24H0V0z\" fill=\"none\"/>\n",
              "    <path d=\"M18.56 5.44l.94 2.06.94-2.06 2.06-.94-2.06-.94-.94-2.06-.94 2.06-2.06.94zm-11 1L8.5 8.5l.94-2.06 2.06-.94-2.06-.94L8.5 2.5l-.94 2.06-2.06.94zm10 10l.94 2.06.94-2.06 2.06-.94-2.06-.94-.94-2.06-.94 2.06-2.06.94z\"/><path d=\"M17.41 7.96l-1.37-1.37c-.4-.4-.92-.59-1.43-.59-.52 0-1.04.2-1.43.59L10.3 9.45l-7.72 7.72c-.78.78-.78 2.05 0 2.83L4 21.41c.39.39.9.59 1.41.59.51 0 1.02-.2 1.41-.59l7.78-7.78 2.81-2.81c.8-.78.8-2.07 0-2.86zM5.41 20L4 18.59l7.72-7.72 1.47 1.35L5.41 20z\"/>\n",
              "  </svg>\n",
              "      </button>\n",
              "      \n",
              "  <style>\n",
              "    .colab-df-container {\n",
              "      display:flex;\n",
              "      flex-wrap:wrap;\n",
              "      gap: 12px;\n",
              "    }\n",
              "\n",
              "    .colab-df-convert {\n",
              "      background-color: #E8F0FE;\n",
              "      border: none;\n",
              "      border-radius: 50%;\n",
              "      cursor: pointer;\n",
              "      display: none;\n",
              "      fill: #1967D2;\n",
              "      height: 32px;\n",
              "      padding: 0 0 0 0;\n",
              "      width: 32px;\n",
              "    }\n",
              "\n",
              "    .colab-df-convert:hover {\n",
              "      background-color: #E2EBFA;\n",
              "      box-shadow: 0px 1px 2px rgba(60, 64, 67, 0.3), 0px 1px 3px 1px rgba(60, 64, 67, 0.15);\n",
              "      fill: #174EA6;\n",
              "    }\n",
              "\n",
              "    [theme=dark] .colab-df-convert {\n",
              "      background-color: #3B4455;\n",
              "      fill: #D2E3FC;\n",
              "    }\n",
              "\n",
              "    [theme=dark] .colab-df-convert:hover {\n",
              "      background-color: #434B5C;\n",
              "      box-shadow: 0px 1px 3px 1px rgba(0, 0, 0, 0.15);\n",
              "      filter: drop-shadow(0px 1px 2px rgba(0, 0, 0, 0.3));\n",
              "      fill: #FFFFFF;\n",
              "    }\n",
              "  </style>\n",
              "\n",
              "      <script>\n",
              "        const buttonEl =\n",
              "          document.querySelector('#df-cb6bb09b-a0ab-4278-8507-ae1e359a928c button.colab-df-convert');\n",
              "        buttonEl.style.display =\n",
              "          google.colab.kernel.accessAllowed ? 'block' : 'none';\n",
              "\n",
              "        async function convertToInteractive(key) {\n",
              "          const element = document.querySelector('#df-cb6bb09b-a0ab-4278-8507-ae1e359a928c');\n",
              "          const dataTable =\n",
              "            await google.colab.kernel.invokeFunction('convertToInteractive',\n",
              "                                                     [key], {});\n",
              "          if (!dataTable) return;\n",
              "\n",
              "          const docLinkHtml = 'Like what you see? Visit the ' +\n",
              "            '<a target=\"_blank\" href=https://colab.research.google.com/notebooks/data_table.ipynb>data table notebook</a>'\n",
              "            + ' to learn more about interactive tables.';\n",
              "          element.innerHTML = '';\n",
              "          dataTable['output_type'] = 'display_data';\n",
              "          await google.colab.output.renderOutput(dataTable, element);\n",
              "          const docLink = document.createElement('div');\n",
              "          docLink.innerHTML = docLinkHtml;\n",
              "          element.appendChild(docLink);\n",
              "        }\n",
              "      </script>\n",
              "    </div>\n",
              "  </div>\n",
              "  "
            ]
          },
          "metadata": {},
          "execution_count": 27
        }
      ],
      "source": [
        "# load ratings dataset\n",
        "rating_df = pd.read_csv(\"/content/drive/My Drive/Colab Notebooks/datasets/rating.csv\")\n",
        "\n",
        "rating_df.head()"
      ]
    },
    {
      "cell_type": "code",
      "execution_count": null,
      "metadata": {
        "colab": {
          "base_uri": "https://localhost:8080/",
          "height": 206
        },
        "id": "cGp4QlyB3lmH",
        "outputId": "fab9ef6b-1068-47f5-b425-26a6fa64ce20"
      },
      "outputs": [
        {
          "output_type": "execute_result",
          "data": {
            "text/plain": [
              "         user_id  anime_id  rating\n",
              "7813732    73515     16512       7\n",
              "7813733    73515     17187       9\n",
              "7813734    73515     22145      10\n",
              "7813735    73516       790       9\n",
              "7813736    73516      8074       9"
            ],
            "text/html": [
              "\n",
              "  <div id=\"df-26f9a471-7904-4b4e-aa22-8f8c4300f500\">\n",
              "    <div class=\"colab-df-container\">\n",
              "      <div>\n",
              "<style scoped>\n",
              "    .dataframe tbody tr th:only-of-type {\n",
              "        vertical-align: middle;\n",
              "    }\n",
              "\n",
              "    .dataframe tbody tr th {\n",
              "        vertical-align: top;\n",
              "    }\n",
              "\n",
              "    .dataframe thead th {\n",
              "        text-align: right;\n",
              "    }\n",
              "</style>\n",
              "<table border=\"1\" class=\"dataframe\">\n",
              "  <thead>\n",
              "    <tr style=\"text-align: right;\">\n",
              "      <th></th>\n",
              "      <th>user_id</th>\n",
              "      <th>anime_id</th>\n",
              "      <th>rating</th>\n",
              "    </tr>\n",
              "  </thead>\n",
              "  <tbody>\n",
              "    <tr>\n",
              "      <th>7813732</th>\n",
              "      <td>73515</td>\n",
              "      <td>16512</td>\n",
              "      <td>7</td>\n",
              "    </tr>\n",
              "    <tr>\n",
              "      <th>7813733</th>\n",
              "      <td>73515</td>\n",
              "      <td>17187</td>\n",
              "      <td>9</td>\n",
              "    </tr>\n",
              "    <tr>\n",
              "      <th>7813734</th>\n",
              "      <td>73515</td>\n",
              "      <td>22145</td>\n",
              "      <td>10</td>\n",
              "    </tr>\n",
              "    <tr>\n",
              "      <th>7813735</th>\n",
              "      <td>73516</td>\n",
              "      <td>790</td>\n",
              "      <td>9</td>\n",
              "    </tr>\n",
              "    <tr>\n",
              "      <th>7813736</th>\n",
              "      <td>73516</td>\n",
              "      <td>8074</td>\n",
              "      <td>9</td>\n",
              "    </tr>\n",
              "  </tbody>\n",
              "</table>\n",
              "</div>\n",
              "      <button class=\"colab-df-convert\" onclick=\"convertToInteractive('df-26f9a471-7904-4b4e-aa22-8f8c4300f500')\"\n",
              "              title=\"Convert this dataframe to an interactive table.\"\n",
              "              style=\"display:none;\">\n",
              "        \n",
              "  <svg xmlns=\"http://www.w3.org/2000/svg\" height=\"24px\"viewBox=\"0 0 24 24\"\n",
              "       width=\"24px\">\n",
              "    <path d=\"M0 0h24v24H0V0z\" fill=\"none\"/>\n",
              "    <path d=\"M18.56 5.44l.94 2.06.94-2.06 2.06-.94-2.06-.94-.94-2.06-.94 2.06-2.06.94zm-11 1L8.5 8.5l.94-2.06 2.06-.94-2.06-.94L8.5 2.5l-.94 2.06-2.06.94zm10 10l.94 2.06.94-2.06 2.06-.94-2.06-.94-.94-2.06-.94 2.06-2.06.94z\"/><path d=\"M17.41 7.96l-1.37-1.37c-.4-.4-.92-.59-1.43-.59-.52 0-1.04.2-1.43.59L10.3 9.45l-7.72 7.72c-.78.78-.78 2.05 0 2.83L4 21.41c.39.39.9.59 1.41.59.51 0 1.02-.2 1.41-.59l7.78-7.78 2.81-2.81c.8-.78.8-2.07 0-2.86zM5.41 20L4 18.59l7.72-7.72 1.47 1.35L5.41 20z\"/>\n",
              "  </svg>\n",
              "      </button>\n",
              "      \n",
              "  <style>\n",
              "    .colab-df-container {\n",
              "      display:flex;\n",
              "      flex-wrap:wrap;\n",
              "      gap: 12px;\n",
              "    }\n",
              "\n",
              "    .colab-df-convert {\n",
              "      background-color: #E8F0FE;\n",
              "      border: none;\n",
              "      border-radius: 50%;\n",
              "      cursor: pointer;\n",
              "      display: none;\n",
              "      fill: #1967D2;\n",
              "      height: 32px;\n",
              "      padding: 0 0 0 0;\n",
              "      width: 32px;\n",
              "    }\n",
              "\n",
              "    .colab-df-convert:hover {\n",
              "      background-color: #E2EBFA;\n",
              "      box-shadow: 0px 1px 2px rgba(60, 64, 67, 0.3), 0px 1px 3px 1px rgba(60, 64, 67, 0.15);\n",
              "      fill: #174EA6;\n",
              "    }\n",
              "\n",
              "    [theme=dark] .colab-df-convert {\n",
              "      background-color: #3B4455;\n",
              "      fill: #D2E3FC;\n",
              "    }\n",
              "\n",
              "    [theme=dark] .colab-df-convert:hover {\n",
              "      background-color: #434B5C;\n",
              "      box-shadow: 0px 1px 3px 1px rgba(0, 0, 0, 0.15);\n",
              "      filter: drop-shadow(0px 1px 2px rgba(0, 0, 0, 0.3));\n",
              "      fill: #FFFFFF;\n",
              "    }\n",
              "  </style>\n",
              "\n",
              "      <script>\n",
              "        const buttonEl =\n",
              "          document.querySelector('#df-26f9a471-7904-4b4e-aa22-8f8c4300f500 button.colab-df-convert');\n",
              "        buttonEl.style.display =\n",
              "          google.colab.kernel.accessAllowed ? 'block' : 'none';\n",
              "\n",
              "        async function convertToInteractive(key) {\n",
              "          const element = document.querySelector('#df-26f9a471-7904-4b4e-aa22-8f8c4300f500');\n",
              "          const dataTable =\n",
              "            await google.colab.kernel.invokeFunction('convertToInteractive',\n",
              "                                                     [key], {});\n",
              "          if (!dataTable) return;\n",
              "\n",
              "          const docLinkHtml = 'Like what you see? Visit the ' +\n",
              "            '<a target=\"_blank\" href=https://colab.research.google.com/notebooks/data_table.ipynb>data table notebook</a>'\n",
              "            + ' to learn more about interactive tables.';\n",
              "          element.innerHTML = '';\n",
              "          dataTable['output_type'] = 'display_data';\n",
              "          await google.colab.output.renderOutput(dataTable, element);\n",
              "          const docLink = document.createElement('div');\n",
              "          docLink.innerHTML = docLinkHtml;\n",
              "          element.appendChild(docLink);\n",
              "        }\n",
              "      </script>\n",
              "    </div>\n",
              "  </div>\n",
              "  "
            ]
          },
          "metadata": {},
          "execution_count": 28
        }
      ],
      "source": [
        "rating_df.tail()"
      ]
    },
    {
      "cell_type": "code",
      "execution_count": null,
      "metadata": {
        "colab": {
          "base_uri": "https://localhost:8080/"
        },
        "id": "bSUNl7t_3lmH",
        "outputId": "ef843bd4-935a-4c11-e469-f6911fb2b783"
      },
      "outputs": [
        {
          "output_type": "execute_result",
          "data": {
            "text/plain": [
              "(7813737, 3)"
            ]
          },
          "metadata": {},
          "execution_count": 29
        }
      ],
      "source": [
        "rating_df.shape"
      ]
    },
    {
      "cell_type": "code",
      "execution_count": null,
      "metadata": {
        "colab": {
          "base_uri": "https://localhost:8080/"
        },
        "id": "Uc1ptugt3lmI",
        "outputId": "a8d5f722-ee76-4f6d-a1c2-9106f3212a89"
      },
      "outputs": [
        {
          "output_type": "execute_result",
          "data": {
            "text/plain": [
              "user_id     int64\n",
              "anime_id    int64\n",
              "rating      int64\n",
              "dtype: object"
            ]
          },
          "metadata": {},
          "execution_count": 30
        }
      ],
      "source": [
        "rating_df.dtypes"
      ]
    },
    {
      "cell_type": "code",
      "execution_count": null,
      "metadata": {
        "colab": {
          "base_uri": "https://localhost:8080/"
        },
        "id": "bWhwN38e3lmI",
        "outputId": "d46e2ab9-671f-4851-d938-1408443c01d2"
      },
      "outputs": [
        {
          "output_type": "execute_result",
          "data": {
            "text/plain": [
              "user_id     False\n",
              "anime_id    False\n",
              "rating      False\n",
              "dtype: bool"
            ]
          },
          "metadata": {},
          "execution_count": 31
        }
      ],
      "source": [
        "rating_df.isnull().any()"
      ]
    },
    {
      "cell_type": "markdown",
      "metadata": {
        "id": "ud1rD6-V3lmI"
      },
      "source": [
        "Using -1 as the value for a no-rating may skew future analysis and the building of the recommender. Instead of using -1, I will replace all ratings of -1 with a null value."
      ]
    },
    {
      "cell_type": "code",
      "execution_count": null,
      "metadata": {
        "colab": {
          "base_uri": "https://localhost:8080/"
        },
        "id": "Btg7J6bF3lmI",
        "outputId": "c310267f-b815-4ceb-edb5-38d308093ca2"
      },
      "outputs": [
        {
          "output_type": "stream",
          "name": "stdout",
          "text": [
            "[nan 10.  8.  6.  9.  7.  3.  5.  4.  1.  2.]\n"
          ]
        }
      ],
      "source": [
        "rating_df[\"rating\"].replace({-1: np.nan}, inplace=True)\n",
        "values = rating_df[\"rating\"].unique()\n",
        "values.sort\n",
        "print(values)"
      ]
    },
    {
      "cell_type": "markdown",
      "metadata": {
        "id": "bvOVBxqT3lmI"
      },
      "source": [
        "Now the ratings has values from 1-10 and nan for empty ratings.\n",
        "\n",
        "The ratings dataset doesn't seem to need any more cleaning unless other issues arise."
      ]
    },
    {
      "cell_type": "markdown",
      "metadata": {
        "id": "rm8RRKax3lmJ"
      },
      "source": [
        "## Exporting Dataframes to CSV"
      ]
    },
    {
      "cell_type": "code",
      "execution_count": null,
      "metadata": {
        "id": "xFcBH_o63lmJ"
      },
      "outputs": [],
      "source": [
        "anime_df.to_csv(\"/content/drive/My Drive/Colab Notebooks/datasets/cleaned_anime.csv\", index=False)\n",
        "rating_df.to_csv(\"/content/drive/My Drive/Colab Notebooks/datasets/cleaned_rating.csv\", index=False)"
      ]
    }
  ],
  "metadata": {
    "kernelspec": {
      "display_name": "Python 3",
      "language": "python",
      "name": "python3"
    },
    "language_info": {
      "codemirror_mode": {
        "name": "ipython",
        "version": 3
      },
      "file_extension": ".py",
      "mimetype": "text/x-python",
      "name": "python",
      "nbconvert_exporter": "python",
      "pygments_lexer": "ipython3",
      "version": "3.8.5"
    },
    "colab": {
      "provenance": [],
      "include_colab_link": true
    }
  },
  "nbformat": 4,
  "nbformat_minor": 0
}